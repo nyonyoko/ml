{
  "cells": [
    {
      "cell_type": "markdown",
      "metadata": {
        "id": "view-in-github",
        "colab_type": "text"
      },
      "source": [
        "<a href=\"https://colab.research.google.com/github/nyonyoko/ml/blob/main/Conda%20Instructions.ipynb\" target=\"_parent\"><img src=\"https://colab.research.google.com/assets/colab-badge.svg\" alt=\"Open In Colab\"/></a>"
      ]
    },
    {
      "cell_type": "markdown",
      "id": "7625d9c4",
      "metadata": {
        "id": "7625d9c4"
      },
      "source": [
        "## Installing Miniconda3 with Pytorch\n",
        "\n",
        "This notebook will provide information necessary to install and set up your environment for writing and running code with Pytorch. We start by installing Anaconda, an open-source software useful for storing and managing Python libraries. We will install a mini light version for efficiency purposes available at [https://conda.io/miniconda.html](https://conda.io/miniconda.html).\n",
        "\n",
        "Find the right miniconda installation file corresponding to your computer's hardware and download the installer using the command below. Follow instructions to set up a folder in your home directory called /home/miniconda3. If you are not sure about your computer's microchip information, you can visit this [link](https://www.wikihow.com/Check-Your-Computer%27s-System-Information) to find out the right information using your operating system settings."
      ]
    },
    {
      "cell_type": "markdown",
      "id": "7599903b",
      "metadata": {
        "id": "7599903b"
      },
      "source": [
        "Users of Mac-OS or Linux systems can use their Terminal application to install the 64-bit installer with:\n",
        "\n",
        "    $ wget https://repo.anaconda.com/miniconda/Miniconda3-latest-MacOSX-x86_64.sh\n",
        "$ bash https://repo.anaconda.com/miniconda/Miniconda3-latest-MacOSX-x86_64.sh\n",
        "    \n",
        "    \n",
        "You can also do the installation by double clicking on the installer in your operating system.\n",
        "\n",
        "In Windows, the user will need to either use a Linux Emulator, or download the Windows installer corresponding to their system in the list."
      ]
    },
    {
      "cell_type": "markdown",
      "id": "72b1da23",
      "metadata": {
        "id": "72b1da23"
      },
      "source": [
        "After installing conda, you can verify your installation is up-to-date with the command:\n",
        "   \n",
        "    $ conda update -n base conda -y\n",
        "    \n",
        "Next, you should make sure conda has the pip tool that will help install any library inside the conda installation.\n",
        "\n",
        "    $ conda install pip -y\n",
        "    \n",
        "For running programs as a kernel in the Open OnDemand Jupyter we also need ipykernel\n",
        "\n",
        "    $ conda install ipykernel -y\n",
        "    \n",
        "To confirm that your environment is appropriately referencing your Miniconda installation you can use the following commands:\n",
        "\n",
        "    $ conda --version\n",
        "    # output: conda 23.5.2\n",
        "\n",
        "    $ which python\n",
        "    # output: /Users/dataman/miniconda3/bin/python"
      ]
    },
    {
      "cell_type": "markdown",
      "id": "8cf0bb33",
      "metadata": {
        "id": "8cf0bb33"
      },
      "source": [
        "We can now use the conda (base) environment to set up our Python projects.\n",
        "\n",
        "Let's start by installing and setting up [PyTorch](https://pytorch.org/get-started/locally/). On the webpage for PyTorch installation find the installation command for Python corresponding to your operating system. Choose conda for installation. On MacOS the command will be:\n",
        "\n",
        "    $ conda install pytorch torchvision -c pytorch\n",
        "    \n",
        "Your computer should now be ready to start programming with Pytorch.\n",
        "\n",
        "Let's start a new Python program. We can import torch and check the version installed.\n",
        "\n",
        "++ add instruction to copy into their own Google Drive\n"
      ]
    },
    {
      "cell_type": "code",
      "execution_count": null,
      "id": "ba1b38c9",
      "metadata": {
        "id": "ba1b38c9",
        "outputId": "8f0b2465-0b4c-4cbb-c9ca-06b90ee2f141"
      },
      "outputs": [
        {
          "data": {
            "text/plain": [
              "'2.0.1'"
            ]
          },
          "execution_count": 3,
          "metadata": {},
          "output_type": "execute_result"
        }
      ],
      "source": [
        "import torch\n",
        "torch.__version__"
      ]
    },
    {
      "cell_type": "markdown",
      "source": [
        "Additional libraries can be installed in the same fashion.\n",
        "\n",
        "We can for instance install matplotlib with the command:\n",
        "\n",
        "    $ pip3 install matplotlib"
      ],
      "metadata": {
        "id": "GIuYoROJcXCs"
      },
      "id": "GIuYoROJcXCs"
    }
  ],
  "metadata": {
    "kernelspec": {
      "display_name": "Python 3 (ipykernel)",
      "language": "python",
      "name": "python3"
    },
    "language_info": {
      "codemirror_mode": {
        "name": "ipython",
        "version": 3
      },
      "file_extension": ".py",
      "mimetype": "text/x-python",
      "name": "python",
      "nbconvert_exporter": "python",
      "pygments_lexer": "ipython3",
      "version": "3.11.4"
    },
    "colab": {
      "provenance": [],
      "include_colab_link": true
    }
  },
  "nbformat": 4,
  "nbformat_minor": 5
}